{
 "cells": [
  {
   "cell_type": "code",
   "execution_count": 1,
   "metadata": {
    "colab": {
     "base_uri": "https://localhost:8080/",
     "height": 150
    },
    "colab_type": "code",
    "id": "g_n5IzAMCfjE",
    "outputId": "aa0895bc-da31-468a-8ac9-a0422d713107"
   },
   "outputs": [
    {
     "name": "stdout",
     "output_type": "stream",
     "text": [
      "Go to this URL in a browser: https://accounts.google.com/o/oauth2/auth?client_id=947318989803-6bn6qk8qdgf4n4g3pfee6491hc0brc4i.apps.googleusercontent.com&redirect_uri=urn%3aietf%3awg%3aoauth%3a2.0%3aoob&response_type=code&scope=email%20https%3a%2f%2fwww.googleapis.com%2fauth%2fdocs.test%20https%3a%2f%2fwww.googleapis.com%2fauth%2fdrive%20https%3a%2f%2fwww.googleapis.com%2fauth%2fdrive.photos.readonly%20https%3a%2f%2fwww.googleapis.com%2fauth%2fpeopleapi.readonly\n",
      "\n",
      "Enter your authorization code:\n",
      "··········\n",
      "Mounted at /content/drive\n",
      "/content\n"
     ]
    }
   ],
   "source": [
    "from google.colab import drive\n",
    "drive.mount('/content/drive', force_remount=True)\n",
    "\n",
    "!pwd"
   ]
  },
  {
   "cell_type": "code",
   "execution_count": 2,
   "metadata": {
    "colab": {
     "base_uri": "https://localhost:8080/",
     "height": 243
    },
    "colab_type": "code",
    "id": "tp3mIDCoCldd",
    "outputId": "1f869cac-edf1-42bc-bbed-9fa8d33d28ae"
   },
   "outputs": [
    {
     "name": "stdout",
     "output_type": "stream",
     "text": [
      "ae_datagenerator.py\t     test.ipynb\n",
      "c2ae.py\t\t\t     tf_triplet_loss.py\n",
      "classifier_datagenerator.py  train_c2ae.ipynb\n",
      "data\t\t\t     train_c2ae_perceptual.ipynb\n",
      "eda.py\t\t\t     train_c2ae.py\n",
      "hr_cam-VGG.ipynb\t     train_classifier.ipynb\n",
      "isic_classwise.py\t     train_classifier.py\n",
      "isic_train_val_split.py      train_ensemble.ipynb\n",
      "model.py\t\t     training_log.csv\n",
      "models\t\t\t     train_triplet.py\n",
      "__pycache__\t\t     utils.py\n",
      "pyimagesearch\n"
     ]
    }
   ],
   "source": [
    "import os\n",
    "os.chdir('/content/drive/My Drive/isic/')\n",
    "!ls"
   ]
  },
  {
   "cell_type": "code",
   "execution_count": 3,
   "metadata": {
    "colab": {
     "base_uri": "https://localhost:8080/",
     "height": 301
    },
    "colab_type": "code",
    "id": "xpEhRWqSCmxk",
    "outputId": "a0676a1d-636c-4b2e-8509-c65e1f1538d2"
   },
   "outputs": [
    {
     "name": "stdout",
     "output_type": "stream",
     "text": [
      "Collecting q\n",
      "  Downloading https://files.pythonhosted.org/packages/53/bc/51619d89e0bd855567e7652fa16d06f1ed36a85f108a7fe71f6629bf719d/q-2.6-py2.py3-none-any.whl\n",
      "Collecting keras==2.1.5\n",
      "\u001b[?25l  Downloading https://files.pythonhosted.org/packages/ba/65/e4aff762b8696ec0626a6654b1e73b396fcc8b7cc6b98d78a1bc53b85b48/Keras-2.1.5-py2.py3-none-any.whl (334kB)\n",
      "\r",
      "\u001b[K     |█                               | 10kB 26.4MB/s eta 0:00:01\r",
      "\u001b[K     |██                              | 20kB 29.6MB/s eta 0:00:01\r",
      "\u001b[K     |███                             | 30kB 34.6MB/s eta 0:00:01\r",
      "\u001b[K     |████                            | 40kB 38.0MB/s eta 0:00:01\r",
      "\u001b[K     |█████                           | 51kB 38.8MB/s eta 0:00:01\r",
      "\u001b[K     |█████▉                          | 61kB 39.3MB/s eta 0:00:01\r",
      "\u001b[K     |██████▉                         | 71kB 40.2MB/s eta 0:00:01\r",
      "\u001b[K     |███████▉                        | 81kB 41.3MB/s eta 0:00:01\r",
      "\u001b[K     |████████▉                       | 92kB 41.6MB/s eta 0:00:01\r",
      "\u001b[K     |█████████▉                      | 102kB 41.1MB/s eta 0:00:01\r",
      "\u001b[K     |██████████▊                     | 112kB 41.1MB/s eta 0:00:01\r",
      "\u001b[K     |███████████▊                    | 122kB 41.1MB/s eta 0:00:01\r",
      "\u001b[K     |████████████▊                   | 133kB 41.1MB/s eta 0:00:01\r",
      "\u001b[K     |█████████████▊                  | 143kB 41.1MB/s eta 0:00:01\r",
      "\u001b[K     |██████████████▊                 | 153kB 41.1MB/s eta 0:00:01\r",
      "\u001b[K     |███████████████▋                | 163kB 41.1MB/s eta 0:00:01\r",
      "\u001b[K     |████████████████▋               | 174kB 41.1MB/s eta 0:00:01\r",
      "\u001b[K     |█████████████████▋              | 184kB 41.1MB/s eta 0:00:01\r",
      "\u001b[K     |██████████████████▋             | 194kB 41.1MB/s eta 0:00:01\r",
      "\u001b[K     |███████████████████▋            | 204kB 41.1MB/s eta 0:00:01\r",
      "\u001b[K     |████████████████████▌           | 215kB 41.1MB/s eta 0:00:01\r",
      "\u001b[K     |█████████████████████▌          | 225kB 41.1MB/s eta 0:00:01\r",
      "\u001b[K     |██████████████████████▌         | 235kB 41.1MB/s eta 0:00:01\r",
      "\u001b[K     |███████████████████████▌        | 245kB 41.1MB/s eta 0:00:01\r",
      "\u001b[K     |████████████████████████▌       | 256kB 41.1MB/s eta 0:00:01\r",
      "\u001b[K     |█████████████████████████▍      | 266kB 41.1MB/s eta 0:00:01\r",
      "\u001b[K     |██████████████████████████▍     | 276kB 41.1MB/s eta 0:00:01\r",
      "\u001b[K     |███████████████████████████▍    | 286kB 41.1MB/s eta 0:00:01\r",
      "\u001b[K     |████████████████████████████▍   | 296kB 41.1MB/s eta 0:00:01\r",
      "\u001b[K     |█████████████████████████████▍  | 307kB 41.1MB/s eta 0:00:01\r",
      "\u001b[K     |██████████████████████████████▎ | 317kB 41.1MB/s eta 0:00:01\r",
      "\u001b[K     |███████████████████████████████▎| 327kB 41.1MB/s eta 0:00:01\r",
      "\u001b[K     |████████████████████████████████| 337kB 41.1MB/s \n",
      "\u001b[?25hRequirement already satisfied: six>=1.9.0 in /usr/local/lib/python3.6/dist-packages (from keras==2.1.5) (1.12.0)\n",
      "Requirement already satisfied: numpy>=1.9.1 in /usr/local/lib/python3.6/dist-packages (from keras==2.1.5) (1.17.5)\n",
      "Requirement already satisfied: scipy>=0.14 in /usr/local/lib/python3.6/dist-packages (from keras==2.1.5) (1.4.1)\n",
      "Requirement already satisfied: pyyaml in /usr/local/lib/python3.6/dist-packages (from keras==2.1.5) (3.13)\n",
      "Installing collected packages: q, keras\n",
      "  Found existing installation: Keras 2.2.5\n",
      "    Uninstalling Keras-2.2.5:\n",
      "      Successfully uninstalled Keras-2.2.5\n",
      "Successfully installed keras-2.1.5 q-2.6\n"
     ]
    }
   ],
   "source": [
    "!pip install q keras==2.1.5"
   ]
  },
  {
   "cell_type": "code",
   "execution_count": 4,
   "metadata": {
    "colab": {
     "base_uri": "https://localhost:8080/",
     "height": 433
    },
    "colab_type": "code",
    "id": "JZROt4qBCoqc",
    "outputId": "96fd5688-92b5-43f1-e5a8-887e6bda6e85"
   },
   "outputs": [
    {
     "name": "stdout",
     "output_type": "stream",
     "text": [
      "Collecting efficientnet\n",
      "  Downloading https://files.pythonhosted.org/packages/28/91/67848a143b54c331605bfba5fd31cf4e9db13d2e429d103fe807acc3bcf4/efficientnet-1.1.0-py3-none-any.whl\n",
      "Requirement already satisfied: scikit-image in /usr/local/lib/python3.6/dist-packages (from efficientnet) (0.16.2)\n",
      "Requirement already satisfied: keras-applications<=1.0.8,>=1.0.7 in /usr/local/lib/python3.6/dist-packages (from efficientnet) (1.0.8)\n",
      "Requirement already satisfied: networkx>=2.0 in /usr/local/lib/python3.6/dist-packages (from scikit-image->efficientnet) (2.4)\n",
      "Requirement already satisfied: PyWavelets>=0.4.0 in /usr/local/lib/python3.6/dist-packages (from scikit-image->efficientnet) (1.1.1)\n",
      "Requirement already satisfied: matplotlib!=3.0.0,>=2.0.0 in /usr/local/lib/python3.6/dist-packages (from scikit-image->efficientnet) (3.1.3)\n",
      "Requirement already satisfied: imageio>=2.3.0 in /usr/local/lib/python3.6/dist-packages (from scikit-image->efficientnet) (2.4.1)\n",
      "Requirement already satisfied: scipy>=0.19.0 in /usr/local/lib/python3.6/dist-packages (from scikit-image->efficientnet) (1.4.1)\n",
      "Requirement already satisfied: pillow>=4.3.0 in /usr/local/lib/python3.6/dist-packages (from scikit-image->efficientnet) (6.2.2)\n",
      "Requirement already satisfied: numpy>=1.9.1 in /usr/local/lib/python3.6/dist-packages (from keras-applications<=1.0.8,>=1.0.7->efficientnet) (1.17.5)\n",
      "Requirement already satisfied: h5py in /usr/local/lib/python3.6/dist-packages (from keras-applications<=1.0.8,>=1.0.7->efficientnet) (2.8.0)\n",
      "Requirement already satisfied: decorator>=4.3.0 in /usr/local/lib/python3.6/dist-packages (from networkx>=2.0->scikit-image->efficientnet) (4.4.1)\n",
      "Requirement already satisfied: pyparsing!=2.0.4,!=2.1.2,!=2.1.6,>=2.0.1 in /usr/local/lib/python3.6/dist-packages (from matplotlib!=3.0.0,>=2.0.0->scikit-image->efficientnet) (2.4.6)\n",
      "Requirement already satisfied: cycler>=0.10 in /usr/local/lib/python3.6/dist-packages (from matplotlib!=3.0.0,>=2.0.0->scikit-image->efficientnet) (0.10.0)\n",
      "Requirement already satisfied: python-dateutil>=2.1 in /usr/local/lib/python3.6/dist-packages (from matplotlib!=3.0.0,>=2.0.0->scikit-image->efficientnet) (2.6.1)\n",
      "Requirement already satisfied: kiwisolver>=1.0.1 in /usr/local/lib/python3.6/dist-packages (from matplotlib!=3.0.0,>=2.0.0->scikit-image->efficientnet) (1.1.0)\n",
      "Requirement already satisfied: six in /usr/local/lib/python3.6/dist-packages (from h5py->keras-applications<=1.0.8,>=1.0.7->efficientnet) (1.12.0)\n",
      "Requirement already satisfied: setuptools in /usr/local/lib/python3.6/dist-packages (from kiwisolver>=1.0.1->matplotlib!=3.0.0,>=2.0.0->scikit-image->efficientnet) (45.2.0)\n",
      "Installing collected packages: efficientnet\n",
      "Successfully installed efficientnet-1.1.0\n"
     ]
    }
   ],
   "source": [
    "!pip install efficientnet"
   ]
  },
  {
   "cell_type": "code",
   "execution_count": 5,
   "metadata": {
    "colab": {
     "base_uri": "https://localhost:8080/",
     "height": 245
    },
    "colab_type": "code",
    "id": "W3nZXk57CqGZ",
    "outputId": "ad1fdfaa-f7bb-4aef-c01f-1548314f42f9"
   },
   "outputs": [
    {
     "name": "stderr",
     "output_type": "stream",
     "text": [
      "Using TensorFlow backend.\n"
     ]
    },
    {
     "name": "stdout",
     "output_type": "stream",
     "text": [
      "WARNING:tensorflow:From /usr/local/lib/python3.6/dist-packages/keras/backend/tensorflow_backend.py:68: The name tf.get_default_graph is deprecated. Please use tf.compat.v1.get_default_graph instead.\n",
      "\n",
      "WARNING:tensorflow:From /usr/local/lib/python3.6/dist-packages/keras/backend/tensorflow_backend.py:167: The name tf.get_default_session is deprecated. Please use tf.compat.v1.get_default_session instead.\n",
      "\n",
      "WARNING:tensorflow:From /usr/local/lib/python3.6/dist-packages/keras/backend/tensorflow_backend.py:174: The name tf.ConfigProto is deprecated. Please use tf.compat.v1.ConfigProto instead.\n",
      "\n",
      "WARNING:tensorflow:From /usr/local/lib/python3.6/dist-packages/keras/backend/tensorflow_backend.py:179: The name tf.Session is deprecated. Please use tf.compat.v1.Session instead.\n",
      "\n",
      "WARNING:tensorflow:From /usr/local/lib/python3.6/dist-packages/keras/backend/tensorflow_backend.py:183: The name tf.global_variables is deprecated. Please use tf.compat.v1.global_variables instead.\n",
      "\n"
     ]
    }
   ],
   "source": [
    "%tensorflow_version 1.x\n",
    "\n",
    "from model import build_encoder, build_encoder_v2\n",
    "from c2ae import build_classifier,build_classifier_v2\n",
    "from classifier_datagenerator import classifier_generator\n",
    "from keras.models import Model, load_model\n",
    "from keras.layers import Input, Dense, Concatenate\n",
    "from keras.optimizers import Adam\n",
    "from keras.callbacks import ModelCheckpoint,EarlyStopping,LearningRateScheduler\n",
    "import keras.backend as K\n",
    "K.tensorflow_backend._get_available_gpus()\n",
    "from sklearn.metrics import balanced_accuracy_score\n",
    "\n",
    "import numpy as np\n",
    "import pandas as pd\n",
    "from keras.applications.densenet import preprocess_input\n",
    "from sklearn.model_selection import train_test_split\n",
    "import joblib\n",
    "import cv2\n",
    "\n",
    "from pyimagesearch.learningratefinder import LearningRateFinder\n",
    "from pyimagesearch.clr_callback import CyclicLR"
   ]
  },
  {
   "cell_type": "code",
   "execution_count": 0,
   "metadata": {
    "colab": {},
    "colab_type": "code",
    "id": "Izl2pGeeJv0X"
   },
   "outputs": [],
   "source": [
    "LATENT_DIM = 1024\n",
    "NUM_CLASSES = 8\n",
    "INPUT_SHAPE = (256,256,3)\n",
    "DENSENET121_INPUT_SHAPE = (224,224,3)\n",
    "EFNB2_INPUT_SHAPE = (260,260,3)\n",
    "EFNB3_INPUT_SHAPE = (300,300,3)\n",
    "EFNB4_INPUT_SHAPE = (380,380,3)\n",
    "\n",
    "ISIC_TOTAL_SAMPLES = 25331\n",
    "ISIC_TRAIN_SAMPLES = 20265\n",
    "ISIC_VAL_SAMPLES = 5066"
   ]
  },
  {
   "cell_type": "code",
   "execution_count": 7,
   "metadata": {
    "colab": {
     "base_uri": "https://localhost:8080/",
     "height": 206
    },
    "colab_type": "code",
    "id": "LAR8ZrZHKbHP",
    "outputId": "0d7b9209-b61d-4ea4-8188-7399e812ca47"
   },
   "outputs": [
    {
     "data": {
      "text/html": [
       "<div>\n",
       "<style scoped>\n",
       "    .dataframe tbody tr th:only-of-type {\n",
       "        vertical-align: middle;\n",
       "    }\n",
       "\n",
       "    .dataframe tbody tr th {\n",
       "        vertical-align: top;\n",
       "    }\n",
       "\n",
       "    .dataframe thead th {\n",
       "        text-align: right;\n",
       "    }\n",
       "</style>\n",
       "<table border=\"1\" class=\"dataframe\">\n",
       "  <thead>\n",
       "    <tr style=\"text-align: right;\">\n",
       "      <th></th>\n",
       "      <th>image</th>\n",
       "      <th>MEL</th>\n",
       "      <th>NV</th>\n",
       "      <th>BCC</th>\n",
       "      <th>AK</th>\n",
       "      <th>BKL</th>\n",
       "      <th>DF</th>\n",
       "      <th>VASC</th>\n",
       "      <th>SCC</th>\n",
       "      <th>UNK</th>\n",
       "      <th>X</th>\n",
       "      <th>Y</th>\n",
       "      <th>Y_LE</th>\n",
       "    </tr>\n",
       "  </thead>\n",
       "  <tbody>\n",
       "    <tr>\n",
       "      <th>0</th>\n",
       "      <td>ISIC_0030071</td>\n",
       "      <td>0.0</td>\n",
       "      <td>1.0</td>\n",
       "      <td>0.0</td>\n",
       "      <td>0.0</td>\n",
       "      <td>0.0</td>\n",
       "      <td>0.0</td>\n",
       "      <td>0.0</td>\n",
       "      <td>0.0</td>\n",
       "      <td>0.0</td>\n",
       "      <td>ISIC_0030071.jpg</td>\n",
       "      <td>NV</td>\n",
       "      <td>1</td>\n",
       "    </tr>\n",
       "    <tr>\n",
       "      <th>1</th>\n",
       "      <td>ISIC_0068166</td>\n",
       "      <td>1.0</td>\n",
       "      <td>0.0</td>\n",
       "      <td>0.0</td>\n",
       "      <td>0.0</td>\n",
       "      <td>0.0</td>\n",
       "      <td>0.0</td>\n",
       "      <td>0.0</td>\n",
       "      <td>0.0</td>\n",
       "      <td>0.0</td>\n",
       "      <td>ISIC_0068166.jpg</td>\n",
       "      <td>MEL</td>\n",
       "      <td>0</td>\n",
       "    </tr>\n",
       "    <tr>\n",
       "      <th>2</th>\n",
       "      <td>ISIC_0015174_downsampled</td>\n",
       "      <td>0.0</td>\n",
       "      <td>1.0</td>\n",
       "      <td>0.0</td>\n",
       "      <td>0.0</td>\n",
       "      <td>0.0</td>\n",
       "      <td>0.0</td>\n",
       "      <td>0.0</td>\n",
       "      <td>0.0</td>\n",
       "      <td>0.0</td>\n",
       "      <td>ISIC_0015174_downsampled.jpg</td>\n",
       "      <td>NV</td>\n",
       "      <td>1</td>\n",
       "    </tr>\n",
       "    <tr>\n",
       "      <th>3</th>\n",
       "      <td>ISIC_0030125</td>\n",
       "      <td>0.0</td>\n",
       "      <td>1.0</td>\n",
       "      <td>0.0</td>\n",
       "      <td>0.0</td>\n",
       "      <td>0.0</td>\n",
       "      <td>0.0</td>\n",
       "      <td>0.0</td>\n",
       "      <td>0.0</td>\n",
       "      <td>0.0</td>\n",
       "      <td>ISIC_0030125.jpg</td>\n",
       "      <td>NV</td>\n",
       "      <td>1</td>\n",
       "    </tr>\n",
       "    <tr>\n",
       "      <th>4</th>\n",
       "      <td>ISIC_0024974</td>\n",
       "      <td>0.0</td>\n",
       "      <td>1.0</td>\n",
       "      <td>0.0</td>\n",
       "      <td>0.0</td>\n",
       "      <td>0.0</td>\n",
       "      <td>0.0</td>\n",
       "      <td>0.0</td>\n",
       "      <td>0.0</td>\n",
       "      <td>0.0</td>\n",
       "      <td>ISIC_0024974.jpg</td>\n",
       "      <td>NV</td>\n",
       "      <td>1</td>\n",
       "    </tr>\n",
       "  </tbody>\n",
       "</table>\n",
       "</div>"
      ],
      "text/plain": [
       "                      image  MEL   NV  ...                             X    Y  Y_LE\n",
       "0              ISIC_0030071  0.0  1.0  ...              ISIC_0030071.jpg   NV     1\n",
       "1              ISIC_0068166  1.0  0.0  ...              ISIC_0068166.jpg  MEL     0\n",
       "2  ISIC_0015174_downsampled  0.0  1.0  ...  ISIC_0015174_downsampled.jpg   NV     1\n",
       "3              ISIC_0030125  0.0  1.0  ...              ISIC_0030125.jpg   NV     1\n",
       "4              ISIC_0024974  0.0  1.0  ...              ISIC_0024974.jpg   NV     1\n",
       "\n",
       "[5 rows x 13 columns]"
      ]
     },
     "execution_count": 7,
     "metadata": {
      "tags": []
     },
     "output_type": "execute_result"
    }
   ],
   "source": [
    "BASE_DIR = 'data/isic/'\n",
    "IMAGE_BASE_DIR = BASE_DIR+'ISIC_2019_Training_Input/'\n",
    "mapp = {'AK': 0, 'BCC': 1, 'BKL': 2, 'DF': 3, 'MEL': 4, 'NV': 5, 'SCC': 6, 'VASC': 7}\n",
    "train_data = pd.read_csv('data/isic/train_gt.csv')\n",
    "val_data = pd.read_csv('data/isic/val_gt.csv')\n",
    "\n",
    "train_data.head()\n",
    "\n",
    "val_data.head()"
   ]
  },
  {
   "cell_type": "code",
   "execution_count": 8,
   "metadata": {
    "colab": {
     "base_uri": "https://localhost:8080/",
     "height": 395
    },
    "colab_type": "code",
    "id": "03wlcPfRKqTY",
    "outputId": "030c461f-1eda-45e2-c0c4-a9261aa09a98"
   },
   "outputs": [
    {
     "name": "stderr",
     "output_type": "stream",
     "text": [
      "/usr/local/lib/python3.6/dist-packages/ipykernel_launcher.py:5: SettingWithCopyWarning: \n",
      "A value is trying to be set on a copy of a slice from a DataFrame\n",
      "\n",
      "See the caveats in the documentation: http://pandas.pydata.org/pandas-docs/stable/user_guide/indexing.html#returning-a-view-versus-a-copy\n",
      "  \"\"\"\n",
      "/usr/local/lib/python3.6/dist-packages/ipykernel_launcher.py:8: SettingWithCopyWarning: \n",
      "A value is trying to be set on a copy of a slice from a DataFrame\n",
      "\n",
      "See the caveats in the documentation: http://pandas.pydata.org/pandas-docs/stable/user_guide/indexing.html#returning-a-view-versus-a-copy\n",
      "  \n"
     ]
    },
    {
     "data": {
      "text/html": [
       "<div>\n",
       "<style scoped>\n",
       "    .dataframe tbody tr th:only-of-type {\n",
       "        vertical-align: middle;\n",
       "    }\n",
       "\n",
       "    .dataframe tbody tr th {\n",
       "        vertical-align: top;\n",
       "    }\n",
       "\n",
       "    .dataframe thead th {\n",
       "        text-align: right;\n",
       "    }\n",
       "</style>\n",
       "<table border=\"1\" class=\"dataframe\">\n",
       "  <thead>\n",
       "    <tr style=\"text-align: right;\">\n",
       "      <th></th>\n",
       "      <th>image</th>\n",
       "      <th>MEL</th>\n",
       "      <th>NV</th>\n",
       "      <th>BCC</th>\n",
       "      <th>AK</th>\n",
       "      <th>BKL</th>\n",
       "      <th>DF</th>\n",
       "      <th>VASC</th>\n",
       "      <th>SCC</th>\n",
       "      <th>UNK</th>\n",
       "      <th>X</th>\n",
       "      <th>Y</th>\n",
       "      <th>Y_LE</th>\n",
       "      <th>Y_LE_ASC</th>\n",
       "    </tr>\n",
       "  </thead>\n",
       "  <tbody>\n",
       "    <tr>\n",
       "      <th>0</th>\n",
       "      <td>ISIC_0030071</td>\n",
       "      <td>0.0</td>\n",
       "      <td>1.0</td>\n",
       "      <td>0.0</td>\n",
       "      <td>0.0</td>\n",
       "      <td>0.0</td>\n",
       "      <td>0.0</td>\n",
       "      <td>0.0</td>\n",
       "      <td>0.0</td>\n",
       "      <td>0.0</td>\n",
       "      <td>ISIC_0030071.jpg</td>\n",
       "      <td>NV</td>\n",
       "      <td>1</td>\n",
       "      <td>5</td>\n",
       "    </tr>\n",
       "    <tr>\n",
       "      <th>1</th>\n",
       "      <td>ISIC_0068166</td>\n",
       "      <td>1.0</td>\n",
       "      <td>0.0</td>\n",
       "      <td>0.0</td>\n",
       "      <td>0.0</td>\n",
       "      <td>0.0</td>\n",
       "      <td>0.0</td>\n",
       "      <td>0.0</td>\n",
       "      <td>0.0</td>\n",
       "      <td>0.0</td>\n",
       "      <td>ISIC_0068166.jpg</td>\n",
       "      <td>MEL</td>\n",
       "      <td>0</td>\n",
       "      <td>4</td>\n",
       "    </tr>\n",
       "    <tr>\n",
       "      <th>2</th>\n",
       "      <td>ISIC_0015174_downsampled</td>\n",
       "      <td>0.0</td>\n",
       "      <td>1.0</td>\n",
       "      <td>0.0</td>\n",
       "      <td>0.0</td>\n",
       "      <td>0.0</td>\n",
       "      <td>0.0</td>\n",
       "      <td>0.0</td>\n",
       "      <td>0.0</td>\n",
       "      <td>0.0</td>\n",
       "      <td>ISIC_0015174_downsampled.jpg</td>\n",
       "      <td>NV</td>\n",
       "      <td>1</td>\n",
       "      <td>5</td>\n",
       "    </tr>\n",
       "    <tr>\n",
       "      <th>3</th>\n",
       "      <td>ISIC_0030125</td>\n",
       "      <td>0.0</td>\n",
       "      <td>1.0</td>\n",
       "      <td>0.0</td>\n",
       "      <td>0.0</td>\n",
       "      <td>0.0</td>\n",
       "      <td>0.0</td>\n",
       "      <td>0.0</td>\n",
       "      <td>0.0</td>\n",
       "      <td>0.0</td>\n",
       "      <td>ISIC_0030125.jpg</td>\n",
       "      <td>NV</td>\n",
       "      <td>1</td>\n",
       "      <td>5</td>\n",
       "    </tr>\n",
       "    <tr>\n",
       "      <th>4</th>\n",
       "      <td>ISIC_0024974</td>\n",
       "      <td>0.0</td>\n",
       "      <td>1.0</td>\n",
       "      <td>0.0</td>\n",
       "      <td>0.0</td>\n",
       "      <td>0.0</td>\n",
       "      <td>0.0</td>\n",
       "      <td>0.0</td>\n",
       "      <td>0.0</td>\n",
       "      <td>0.0</td>\n",
       "      <td>ISIC_0024974.jpg</td>\n",
       "      <td>NV</td>\n",
       "      <td>1</td>\n",
       "      <td>5</td>\n",
       "    </tr>\n",
       "  </tbody>\n",
       "</table>\n",
       "</div>"
      ],
      "text/plain": [
       "                      image  MEL   NV  ...    Y  Y_LE  Y_LE_ASC\n",
       "0              ISIC_0030071  0.0  1.0  ...   NV     1         5\n",
       "1              ISIC_0068166  1.0  0.0  ...  MEL     0         4\n",
       "2  ISIC_0015174_downsampled  0.0  1.0  ...   NV     1         5\n",
       "3              ISIC_0030125  0.0  1.0  ...   NV     1         5\n",
       "4              ISIC_0024974  0.0  1.0  ...   NV     1         5\n",
       "\n",
       "[5 rows x 14 columns]"
      ]
     },
     "execution_count": 8,
     "metadata": {
      "tags": []
     },
     "output_type": "execute_result"
    }
   ],
   "source": [
    "train_data['Y_LE_ASC'] = 0\n",
    "val_data['Y_LE_ASC'] = 0\n",
    "\n",
    "for i in range(len(train_data)):\n",
    "  train_data['Y_LE_ASC'][i] = mapp[ train_data['Y'][i] ]\n",
    "\n",
    "for i in range(len(val_data)):\n",
    "  val_data['Y_LE_ASC'][i] = mapp[ val_data['Y'][i] ]\n",
    "\n",
    "train_data.head()\n",
    "\n",
    "val_data.head()"
   ]
  },
  {
   "cell_type": "code",
   "execution_count": 0,
   "metadata": {
    "colab": {},
    "colab_type": "code",
    "id": "OaKBzh3qLHTq"
   },
   "outputs": [],
   "source": [
    "def clf_generator(batch_size,mode='train',subsample=1):\n",
    "    if mode == 'train':\n",
    "        images = list(train_data['X'])\n",
    "        images = images[:int(subsample*len(images))]\n",
    "\n",
    "        image_labels = list(train_data['Y_LE_ASC'])\n",
    "        image_labels = image_labels[:int(subsample*len(image_labels))]\n",
    "    else:\n",
    "        images = list(val_data['X'])\n",
    "        images = images[:int(subsample*len(images))]\n",
    "\n",
    "        image_labels = list(val_data['Y_LE_ASC'])\n",
    "        image_labels = image_labels[:int(subsample*len(image_labels))]\n",
    "\n",
    "    i=0\n",
    "\n",
    "    while(1):\n",
    "        if (i+1)*batch_size < len(images):\n",
    "            img_paths = images[i*batch_size:(i+1)*batch_size]\n",
    "            img_labels = image_labels[i*batch_size:(i+1)*batch_size]\n",
    "            i+=1\n",
    "        else:\n",
    "            img_paths = images[i*batch_size:]\n",
    "            img_labels = image_labels[i*batch_size:]\n",
    "            i=0\n",
    "\n",
    "        dnet_imgs = [preprocess_input(np.array(cv2.resize(\n",
    "                cv2.cvtColor(cv2.imread(IMAGE_BASE_DIR+x.rstrip()),cv2.COLOR_BGR2RGB),\n",
    "                tuple(DENSENET121_INPUT_SHAPE[:-1])),dtype=np.float64)) for x in img_paths]\n",
    "        dnet_imgs = np.array(dnet_imgs)\n",
    "        efnb2_imgs = [preprocess_input(np.array(cv2.resize(\n",
    "                cv2.cvtColor(cv2.imread(IMAGE_BASE_DIR+x.rstrip()),cv2.COLOR_BGR2RGB),\n",
    "                tuple(EFNB2_INPUT_SHAPE[:-1])),dtype=np.float64)) for x in img_paths]\n",
    "        efnb2_imgs = np.array(efnb2_imgs)\n",
    "        efnb3_imgs = [preprocess_input(np.array(cv2.resize(\n",
    "                cv2.cvtColor(cv2.imread(IMAGE_BASE_DIR+x.rstrip()),cv2.COLOR_BGR2RGB),\n",
    "                tuple(EFNB3_INPUT_SHAPE[:-1])),dtype=np.float64)) for x in img_paths]\n",
    "        efnb3_imgs = np.array(efnb3_imgs)\n",
    "        efnb4_imgs = [preprocess_input(np.array(cv2.resize(\n",
    "                cv2.cvtColor(cv2.imread(IMAGE_BASE_DIR+x.rstrip()),cv2.COLOR_BGR2RGB),\n",
    "                tuple(EFNB4_INPUT_SHAPE[:-1])),dtype=np.float64)) for x in img_paths]\n",
    "        efnb4_imgs = np.array(efnb4_imgs)\n",
    "\n",
    "        y = np.zeros((len(img_labels),NUM_CLASSES))\n",
    "        for q in range(len(img_labels)):\n",
    "            y[q,img_labels[q]] = 1\n",
    "\n",
    "        yield([dnet_imgs,efnb2_imgs,efnb3_imgs,efnb4_imgs],y)"
   ]
  },
  {
   "cell_type": "code",
   "execution_count": 0,
   "metadata": {
    "colab": {},
    "colab_type": "code",
    "id": "ft-DyMAUCv5g"
   },
   "outputs": [],
   "source": [
    "def get_classifier(model_name):\n",
    "    if model_name == 'densenet121':\n",
    "        classifier = load_model('models/densenet121-v2-save-04-0.59.hdf5')\n",
    "    elif model_name == 'efnb2':\n",
    "        classifier = build_classifier_v2(build_encoder_v2(LATENT_DIM,'efnb2'),\n",
    "                                               EFNB2_INPUT_SHAPE)\n",
    "        classifier.load_weights('models/efnb2-v2-save-07-0.553.hdf5')\n",
    "    elif model_name == 'efnb3':\n",
    "        classifier = build_classifier_v2(build_encoder_v2(LATENT_DIM,'efnb3'),\n",
    "                                               EFNB3_INPUT_SHAPE)\n",
    "        classifier.load_weights('models/efnb3-v2-save-07-0.526.hdf5')\n",
    "    elif model_name == 'efnb4':\n",
    "        classifier = build_classifier_v2(build_encoder_v2(LATENT_DIM,'efnb4'),\n",
    "                                               EFNB4_INPUT_SHAPE)\n",
    "        classifier.load_weights('models/efnb4-v2-save-05-0.516.hdf5')    \n",
    "    return classifier"
   ]
  },
  {
   "cell_type": "code",
   "execution_count": 11,
   "metadata": {
    "colab": {
     "base_uri": "https://localhost:8080/",
     "height": 754
    },
    "colab_type": "code",
    "id": "vrd0doVvC1h5",
    "outputId": "b8064636-573f-4daa-af9a-231165312a0a"
   },
   "outputs": [
    {
     "name": "stdout",
     "output_type": "stream",
     "text": [
      "WARNING:tensorflow:From /usr/local/lib/python3.6/dist-packages/keras/backend/tensorflow_backend.py:507: The name tf.placeholder is deprecated. Please use tf.compat.v1.placeholder instead.\n",
      "\n",
      "WARNING:tensorflow:From /usr/local/lib/python3.6/dist-packages/keras/backend/tensorflow_backend.py:3831: The name tf.random_uniform is deprecated. Please use tf.random.uniform instead.\n",
      "\n",
      "WARNING:tensorflow:From /usr/local/lib/python3.6/dist-packages/keras/backend/tensorflow_backend.py:1797: The name tf.nn.fused_batch_norm is deprecated. Please use tf.compat.v1.nn.fused_batch_norm instead.\n",
      "\n",
      "WARNING:tensorflow:From /usr/local/lib/python3.6/dist-packages/keras/backend/tensorflow_backend.py:126: The name tf.placeholder_with_default is deprecated. Please use tf.compat.v1.placeholder_with_default instead.\n",
      "\n",
      "WARNING:tensorflow:From /usr/local/lib/python3.6/dist-packages/keras/backend/tensorflow_backend.py:3655: The name tf.nn.max_pool is deprecated. Please use tf.nn.max_pool2d instead.\n",
      "\n",
      "WARNING:tensorflow:From /usr/local/lib/python3.6/dist-packages/keras/backend/tensorflow_backend.py:3659: The name tf.nn.avg_pool is deprecated. Please use tf.nn.avg_pool2d instead.\n",
      "\n",
      "WARNING:tensorflow:From /usr/local/lib/python3.6/dist-packages/keras/backend/tensorflow_backend.py:192: The name tf.is_variable_initialized is deprecated. Please use tf.compat.v1.is_variable_initialized instead.\n",
      "\n",
      "WARNING:tensorflow:From /usr/local/lib/python3.6/dist-packages/keras/backend/tensorflow_backend.py:199: The name tf.variables_initializer is deprecated. Please use tf.compat.v1.variables_initializer instead.\n",
      "\n",
      "WARNING:tensorflow:From /usr/local/lib/python3.6/dist-packages/keras/optimizers.py:757: The name tf.train.Optimizer is deprecated. Please use tf.compat.v1.train.Optimizer instead.\n",
      "\n",
      "WARNING:tensorflow:From /usr/local/lib/python3.6/dist-packages/keras/backend/tensorflow_backend.py:3008: The name tf.log is deprecated. Please use tf.math.log instead.\n",
      "\n",
      "WARNING:tensorflow:From /usr/local/lib/python3.6/dist-packages/tensorflow_core/python/ops/math_grad.py:1424: where (from tensorflow.python.ops.array_ops) is deprecated and will be removed in a future version.\n",
      "Instructions for updating:\n",
      "Use tf.where in 2.0, which has the same broadcast rule as np.where\n",
      "WARNING:tensorflow:From /usr/local/lib/python3.6/dist-packages/keras/backend/tensorflow_backend.py:976: The name tf.assign_add is deprecated. Please use tf.compat.v1.assign_add instead.\n",
      "\n",
      "WARNING:tensorflow:From /usr/local/lib/python3.6/dist-packages/keras/backend/tensorflow_backend.py:963: The name tf.assign is deprecated. Please use tf.compat.v1.assign instead.\n",
      "\n",
      "WARNING:tensorflow:From /usr/local/lib/python3.6/dist-packages/keras/backend/tensorflow_backend.py:3878: The name tf.truncated_normal is deprecated. Please use tf.random.truncated_normal instead.\n",
      "\n",
      "WARNING:tensorflow:From /usr/local/lib/python3.6/dist-packages/keras/backend/tensorflow_backend.py:3138: calling dropout (from tensorflow.python.ops.nn_ops) with keep_prob is deprecated and will be removed in a future version.\n",
      "Instructions for updating:\n",
      "Please use `rate` instead of `keep_prob`. Rate should be set to `rate = 1 - keep_prob`.\n",
      "Downloading data from https://github.com/Callidior/keras-applications/releases/download/efficientnet/efficientnet-b2_weights_tf_dim_ordering_tf_kernels_autoaugment.h5\n",
      "37429248/37424016 [==============================] - 4s 0us/step\n",
      "Downloading data from https://github.com/Callidior/keras-applications/releases/download/efficientnet/efficientnet-b3_weights_tf_dim_ordering_tf_kernels_autoaugment.h5\n",
      "50094080/50086816 [==============================] - 5s 0us/step\n",
      "Downloading data from https://github.com/Callidior/keras-applications/releases/download/efficientnet/efficientnet-b4_weights_tf_dim_ordering_tf_kernels_autoaugment.h5\n",
      "78856192/78856072 [==============================] - 7s 0us/step\n"
     ]
    }
   ],
   "source": [
    "densenet_classifier = get_classifier('densenet121')\n",
    "densenet_classifier.trainable=False\n",
    "densenet_classifier.name = 'DenseNet121_Classifier'\n",
    "\n",
    "efnb2_classifier = get_classifier('efnb2')\n",
    "efnb2_classifier.trainable=False\n",
    "efnb2_classifier.name = 'EFNB2_Classifier'\n",
    "\n",
    "efnb3_classifier = get_classifier('efnb3')\n",
    "efnb3_classifier.trainable=False\n",
    "efnb3_classifier.name = 'EFNB3_Classifier'\n",
    "\n",
    "efnb4_classifier = get_classifier('efnb4')\n",
    "efnb4_classifier.trainable=False\n",
    "efnb4_classifier.name = 'EFNB4_Classifier'"
   ]
  },
  {
   "cell_type": "code",
   "execution_count": 0,
   "metadata": {
    "colab": {},
    "colab_type": "code",
    "id": "giaSQ-b7DMbA"
   },
   "outputs": [],
   "source": [
    "densenet_input_image = Input(DENSENET121_INPUT_SHAPE)\n",
    "efnb2_input_image = Input(EFNB2_INPUT_SHAPE)\n",
    "efnb3_input_image = Input(EFNB3_INPUT_SHAPE)\n",
    "efnb4_input_image = Input(EFNB4_INPUT_SHAPE)\n",
    "\n",
    "densenet_probs = densenet_classifier(densenet_input_image)\n",
    "efnb2_probs = efnb2_classifier(efnb2_input_image)\n",
    "efnb3_probs = efnb3_classifier(efnb3_input_image)\n",
    "efnb4_probs = efnb4_classifier(efnb4_input_image)\n",
    "\n",
    "x = Concatenate()([densenet_probs,efnb2_probs,efnb3_probs,efnb4_probs])\n",
    "x = Dense(16,activation='relu')(x)\n",
    "x = Dense(8,activation='softmax')(x)\n",
    "\n",
    "ensemble_classifier = Model([densenet_input_image,efnb2_input_image,efnb3_input_image,efnb4_input_image],\n",
    "                            x)"
   ]
  },
  {
   "cell_type": "code",
   "execution_count": 13,
   "metadata": {
    "colab": {
     "base_uri": "https://localhost:8080/",
     "height": 621
    },
    "colab_type": "code",
    "id": "Efs9L82qIIk8",
    "outputId": "dddf3969-4619-4d5c-d7e9-f262978d4913"
   },
   "outputs": [
    {
     "name": "stdout",
     "output_type": "stream",
     "text": [
      "__________________________________________________________________________________________________\n",
      "Layer (type)                    Output Shape         Param #     Connected to                     \n",
      "==================================================================================================\n",
      "input_10 (InputLayer)           (None, 224, 224, 3)  0                                            \n",
      "__________________________________________________________________________________________________\n",
      "input_11 (InputLayer)           (None, 260, 260, 3)  0                                            \n",
      "__________________________________________________________________________________________________\n",
      "input_12 (InputLayer)           (None, 300, 300, 3)  0                                            \n",
      "__________________________________________________________________________________________________\n",
      "input_13 (InputLayer)           (None, 380, 380, 3)  0                                            \n",
      "__________________________________________________________________________________________________\n",
      "DenseNet121_Classifier (Model)  (None, 8)            7045704     input_10[0][0]                   \n",
      "__________________________________________________________________________________________________\n",
      "EFNB2_Classifier (Model)        (None, 8)            9219578     input_11[0][0]                   \n",
      "__________________________________________________________________________________________________\n",
      "EFNB3_Classifier (Model)        (None, 8)            12365616    input_12[0][0]                   \n",
      "__________________________________________________________________________________________________\n",
      "EFNB4_Classifier (Model)        (None, 8)            19518048    input_13[0][0]                   \n",
      "__________________________________________________________________________________________________\n",
      "concatenate_1 (Concatenate)     (None, 32)           0           DenseNet121_Classifier[1][0]     \n",
      "                                                                 EFNB2_Classifier[1][0]           \n",
      "                                                                 EFNB3_Classifier[1][0]           \n",
      "                                                                 EFNB4_Classifier[1][0]           \n",
      "__________________________________________________________________________________________________\n",
      "dense_7 (Dense)                 (None, 16)           528         concatenate_1[0][0]              \n",
      "__________________________________________________________________________________________________\n",
      "dense_8 (Dense)                 (None, 8)            136         dense_7[0][0]                    \n",
      "==================================================================================================\n",
      "Total params: 48,149,610\n",
      "Trainable params: 664\n",
      "Non-trainable params: 48,148,946\n",
      "__________________________________________________________________________________________________\n"
     ]
    }
   ],
   "source": [
    "ensemble_classifier.summary()"
   ]
  },
  {
   "cell_type": "code",
   "execution_count": 0,
   "metadata": {
    "colab": {},
    "colab_type": "code",
    "id": "vKX6RAaWqT2H"
   },
   "outputs": [],
   "source": [
    "ensemble_classifier.compile(optimizer=Adam(lr=5e-5),loss='categorical_crossentropy',\n",
    "                            metrics=['categorical_accuracy'])"
   ]
  },
  {
   "cell_type": "code",
   "execution_count": 0,
   "metadata": {
    "colab": {},
    "colab_type": "code",
    "id": "5Z6k4AXoIKlr"
   },
   "outputs": [],
   "source": [
    "subsample = 0.2\n",
    "batch_size = 32\n",
    "train_nb = int(ISIC_TRAIN_SAMPLES/batch_size)+1\n",
    "val_nb = int(ISIC_VAL_SAMPLES/batch_size)+1"
   ]
  },
  {
   "cell_type": "code",
   "execution_count": 0,
   "metadata": {
    "colab": {},
    "colab_type": "code",
    "id": "5bMI3EV-o6oe"
   },
   "outputs": [],
   "source": [
    "train_generator = clf_generator(batch_size,mode='train',subsample=subsample)\n",
    "val_generator = clf_generator(batch_size,mode='val',subsample=subsample)"
   ]
  },
  {
   "cell_type": "code",
   "execution_count": 25,
   "metadata": {
    "colab": {
     "base_uri": "https://localhost:8080/",
     "height": 130
    },
    "colab_type": "code",
    "id": "hVSFECExpchQ",
    "outputId": "7ede12d3-5e45-4799-faf9-32373c86e968"
   },
   "outputs": [
    {
     "name": "stdout",
     "output_type": "stream",
     "text": [
      "Epoch 1/3\n",
      "127/127 [==============================] - 2440s 19s/step - loss: 1.9623 - categorical_accuracy: 0.1767\n",
      "Epoch 2/3\n",
      "127/127 [==============================] - 431s 3s/step - loss: 1.4520 - categorical_accuracy: 0.5311\n",
      "Epoch 3/3\n",
      "127/127 [==============================] - 436s 3s/step - loss: 0.4504 - categorical_accuracy: 0.8668\n"
     ]
    }
   ],
   "source": [
    "lrf = LearningRateFinder(ensemble_classifier)\n",
    "lrf.find(\n",
    "    trainData=train_generator,\n",
    "    startLR=1e-6, endLR=1,\n",
    "    useGen=True,\n",
    "    epochs=3,\n",
    "    stepsPerEpoch=np.ceil((ISIC_TRAIN_SAMPLES*subsample/float(batch_size))),\n",
    "    batchSize=batch_size,\n",
    "    verbose=1)"
   ]
  },
  {
   "cell_type": "code",
   "execution_count": 26,
   "metadata": {
    "colab": {
     "base_uri": "https://localhost:8080/",
     "height": 283
    },
    "colab_type": "code",
    "id": "_74XgkJSp2cJ",
    "outputId": "061bd917-2c27-40a1-ee59-9f81aad5b8b9"
   },
   "outputs": [
    {
     "data": {
      "image/png": "[encoded data removed]",
      "text/plain": [
       "<Figure size 432x288 with 1 Axes>"
      ]
     },
     "metadata": {
      "tags": []
     },
     "output_type": "display_data"
    }
   ],
   "source": [
    "lrf.plot_loss()"
   ]
  },
  {
   "cell_type": "code",
   "execution_count": 15,
   "metadata": {
    "colab": {
     "base_uri": "https://localhost:8080/",
     "height": 56
    },
    "colab_type": "code",
    "id": "mHY5jKWjqqBM",
    "outputId": "cf0b4d33-5620-4cb2-8c25-6871fec7a163"
   },
   "outputs": [
    {
     "name": "stdout",
     "output_type": "stream",
     "text": [
      "{0: 9.657731633176741, 1: 8.688168647112235, 2: 8.964115115865935, 3: 9.905649204531997, 4: 8.214835576961036, 5: 4.917295014014449, 6: 9.752082428644744, 7: 9.900122379692867}\n"
     ]
    }
   ],
   "source": [
    "cw = joblib.load(BASE_DIR+'class_weights.pkl')\n",
    "class_weights = {}\n",
    "for cl in mapp.keys():\n",
    "    class_weights[ mapp[cl] ] = cw[cl]\n",
    "\n",
    "print(class_weights)"
   ]
  },
  {
   "cell_type": "code",
   "execution_count": 0,
   "metadata": {
    "colab": {},
    "colab_type": "code",
    "id": "uLj8cyaMWNHp"
   },
   "outputs": [],
   "source": [
    "subsample = 1\n",
    "batch_size = 32\n",
    "train_nb = int(ISIC_TRAIN_SAMPLES/batch_size)+1\n",
    "val_nb = int(ISIC_VAL_SAMPLES/batch_size)+1"
   ]
  },
  {
   "cell_type": "code",
   "execution_count": 0,
   "metadata": {
    "colab": {},
    "colab_type": "code",
    "id": "XgFWGq0I4bmU"
   },
   "outputs": [],
   "source": [
    "MIN_LR = 1e-3\n",
    "MAX_LR = 1e-1\n",
    "STEP_SIZE = 2*train_nb\n",
    "CLR_METHOD = \"triangular2\"\n",
    "clr = CyclicLR(\n",
    "\tmode=CLR_METHOD,\n",
    "\tbase_lr=MIN_LR,\n",
    "\tmax_lr=MAX_LR,\n",
    "\tstep_size=STEP_SIZE)"
   ]
  },
  {
   "cell_type": "code",
   "execution_count": 0,
   "metadata": {
    "colab": {},
    "colab_type": "code",
    "id": "C4r-cbcU3wA1"
   },
   "outputs": [],
   "source": [
    "def scheduler(epoch,lr):\n",
    "    if epoch > 0 and epoch%10==0:\n",
    "        return lr*0.8\n",
    "    return lr"
   ]
  },
  {
   "cell_type": "code",
   "execution_count": 0,
   "metadata": {
    "colab": {},
    "colab_type": "code",
    "id": "IeH7bPnz39tn"
   },
   "outputs": [],
   "source": [
    "filepath=\"models/ensemble-save-{epoch:02d}-{loss:.3f}-{val_loss:.3f}.hdf5\"\n",
    "checkpoint = ModelCheckpoint(filepath, monitor='val_loss', \n",
    "                             save_weights_only=True,\n",
    "                             verbose=1, save_best_only=True, mode='min',\n",
    "                             period=1)\n",
    "earlystopping = EarlyStopping(monitor='val_loss',verbose=1,mode='min')\n",
    "lr_scheduler = LearningRateScheduler(scheduler,verbose=1)\n",
    "callbacks_list = [checkpoint,earlystopping,clr] #lr_scheduler"
   ]
  },
  {
   "cell_type": "code",
   "execution_count": 0,
   "metadata": {
    "colab": {},
    "colab_type": "code",
    "id": "3jldo-t64SE6"
   },
   "outputs": [],
   "source": [
    "ensemble_classifier.compile(optimizer=Adam(lr=MIN_LR),loss='categorical_crossentropy',\n",
    "                            metrics=['categorical_accuracy'])"
   ]
  },
  {
   "cell_type": "code",
   "execution_count": 0,
   "metadata": {
    "colab": {},
    "colab_type": "code",
    "id": "hf_VgLxb4wq6"
   },
   "outputs": [],
   "source": []
  },
  {
   "cell_type": "code",
   "execution_count": 0,
   "metadata": {
    "colab": {},
    "colab_type": "code",
    "id": "nyk2Cezt4yWG"
   },
   "outputs": [],
   "source": [
    "train_generator = clf_generator(batch_size,mode='train',subsample=subsample)\n",
    "val_generator = clf_generator(batch_size,mode='val',subsample=subsample)"
   ]
  },
  {
   "cell_type": "code",
   "execution_count": 0,
   "metadata": {
    "colab": {},
    "colab_type": "code",
    "id": "QYtPZ74545e8"
   },
   "outputs": [],
   "source": [
    "epochs = 10"
   ]
  },
  {
   "cell_type": "code",
   "execution_count": 0,
   "metadata": {
    "colab": {
     "base_uri": "https://localhost:8080/",
     "height": 112
    },
    "colab_type": "code",
    "id": "uFSXbD2j4Jb8",
    "outputId": "5352d42f-53e3-4350-d987-0eeb66582313"
   },
   "outputs": [
    {
     "name": "stdout",
     "output_type": "stream",
     "text": [
      "Epoch 1/10\n",
      "  2/634 [..............................] - ETA: 5:42:42 - loss: 15.1794 - categorical_accuracy: 0.0156 "
     ]
    },
    {
     "name": "stderr",
     "output_type": "stream",
     "text": [
      "/usr/local/lib/python3.6/dist-packages/keras/callbacks.py:120: UserWarning: Method on_batch_end() is slow compared to the batch update (1.888724). Check your callbacks.\n",
      "  % delta_t_median)\n"
     ]
    },
    {
     "name": "stdout",
     "output_type": "stream",
     "text": [
      "555/634 [=========================>....] - ETA: 36:44 - loss: 3.4353 - categorical_accuracy: 0.8499"
     ]
    }
   ],
   "source": [
    "train_history = ensemble_classifier.fit_generator(train_generator,\n",
    "                                         steps_per_epoch=train_nb,\n",
    "                                         epochs=epochs,\n",
    "                                         validation_data = val_generator,\n",
    "                                         validation_steps = val_nb,\n",
    "                                         callbacks=callbacks_list,\n",
    "                                         verbose=1,\n",
    "                                         initial_epoch=0,\n",
    "                                         class_weight=class_weights)"
   ]
  },
  {
   "cell_type": "code",
   "execution_count": 0,
   "metadata": {
    "colab": {},
    "colab_type": "code",
    "id": "P41Ua42u48JJ"
   },
   "outputs": [],
   "source": []
  }
 ],
 "metadata": {
  "accelerator": "GPU",
  "colab": {
   "collapsed_sections": [],
   "name": "train_ensemble.ipynb",
   "provenance": []
  },
  "kernelspec": {
   "display_name": "Python 3",
   "language": "python",
   "name": "python3"
  },
  "language_info": {
   "codemirror_mode": {
    "name": "ipython",
    "version": 3
   },
   "file_extension": ".py",
   "mimetype": "text/x-python",
   "name": "python",
   "nbconvert_exporter": "python",
   "pygments_lexer": "ipython3",
   "version": "3.7.3"
  }
 },
 "nbformat": 4,
 "nbformat_minor": 1
}
