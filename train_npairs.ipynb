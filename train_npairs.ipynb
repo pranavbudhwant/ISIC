{
  "nbformat": 4,
  "nbformat_minor": 0,
  "metadata": {
    "colab": {
      "name": "train_npairs.ipynb",
      "provenance": [],
      "collapsed_sections": []
    },
    "kernelspec": {
      "name": "python3",
      "display_name": "Python 3"
    },
    "accelerator": "GPU"
  },
  "cells": [
    {
      "cell_type": "code",
      "metadata": {
        "id": "Py_Bz_KjOgO9",
        "colab_type": "code",
        "colab": {
          "base_uri": "https://localhost:8080/",
          "height": 148
        },
        "outputId": "0d370f74-7bae-4d75-f53f-2a451f356778"
      },
      "source": [
        "from google.colab import drive\n",
        "drive.mount('/content/drive', force_remount=True)\n",
        "\n",
        "!pwd"
      ],
      "execution_count": 1,
      "outputs": [
        {
          "output_type": "stream",
          "text": [
            "Go to this URL in a browser: https://accounts.google.com/o/oauth2/auth?client_id=947318989803-6bn6qk8qdgf4n4g3pfee6491hc0brc4i.apps.googleusercontent.com&redirect_uri=urn%3aietf%3awg%3aoauth%3a2.0%3aoob&response_type=code&scope=email%20https%3a%2f%2fwww.googleapis.com%2fauth%2fdocs.test%20https%3a%2f%2fwww.googleapis.com%2fauth%2fdrive%20https%3a%2f%2fwww.googleapis.com%2fauth%2fdrive.photos.readonly%20https%3a%2f%2fwww.googleapis.com%2fauth%2fpeopleapi.readonly\n",
            "\n",
            "Enter your authorization code:\n",
            "··········\n",
            "Mounted at /content/drive\n",
            "/content\n"
          ],
          "name": "stdout"
        }
      ]
    },
    {
      "cell_type": "code",
      "metadata": {
        "id": "HdHNr-v6Opf-",
        "colab_type": "code",
        "colab": {
          "base_uri": "https://localhost:8080/",
          "height": 110
        },
        "outputId": "fbea1a3c-cd73-4c5a-910a-cf163b90e577"
      },
      "source": [
        "import os\n",
        "os.chdir('/content/drive/My Drive/isic/')\n",
        "!ls"
      ],
      "execution_count": 2,
      "outputs": [
        {
          "output_type": "stream",
          "text": [
            "ae_datagenerator.py\t     models\t\t     train_npairs.ipynb\n",
            "c2ae.py\t\t\t     npair_generator.py      tsne.ipynb\n",
            "classifier_datagenerator.py  __pycache__\t     utils.py\n",
            "data\t\t\t     train_classifier.ipynb\n",
            "model.py\t\t     train_classifier.py\n"
          ],
          "name": "stdout"
        }
      ]
    },
    {
      "cell_type": "code",
      "metadata": {
        "id": "vpGAiqxPOxWV",
        "colab_type": "code",
        "colab": {
          "base_uri": "https://localhost:8080/",
          "height": 277
        },
        "outputId": "85b2b641-8531-46c2-9608-09926ffaf2b4"
      },
      "source": [
        "!pip install keras==2.1.5\n",
        "%tensorflow_version 1.x\n",
        "import keras\n",
        "keras.__version__"
      ],
      "execution_count": 3,
      "outputs": [
        {
          "output_type": "stream",
          "text": [
            "Collecting keras==2.1.5\n",
            "\u001b[?25l  Downloading https://files.pythonhosted.org/packages/ba/65/e4aff762b8696ec0626a6654b1e73b396fcc8b7cc6b98d78a1bc53b85b48/Keras-2.1.5-py2.py3-none-any.whl (334kB)\n",
            "\r\u001b[K     |█                               | 10kB 29.6MB/s eta 0:00:01\r\u001b[K     |██                              | 20kB 35.1MB/s eta 0:00:01\r\u001b[K     |███                             | 30kB 16.9MB/s eta 0:00:01\r\u001b[K     |████                            | 40kB 20.4MB/s eta 0:00:01\r\u001b[K     |█████                           | 51kB 14.4MB/s eta 0:00:01\r\u001b[K     |█████▉                          | 61kB 13.1MB/s eta 0:00:01\r\u001b[K     |██████▉                         | 71kB 13.2MB/s eta 0:00:01\r\u001b[K     |███████▉                        | 81kB 12.7MB/s eta 0:00:01\r\u001b[K     |████████▉                       | 92kB 12.6MB/s eta 0:00:01\r\u001b[K     |█████████▉                      | 102kB 13.3MB/s eta 0:00:01\r\u001b[K     |██████████▊                     | 112kB 13.3MB/s eta 0:00:01\r\u001b[K     |███████████▊                    | 122kB 13.3MB/s eta 0:00:01\r\u001b[K     |████████████▊                   | 133kB 13.3MB/s eta 0:00:01\r\u001b[K     |█████████████▊                  | 143kB 13.3MB/s eta 0:00:01\r\u001b[K     |██████████████▊                 | 153kB 13.3MB/s eta 0:00:01\r\u001b[K     |███████████████▋                | 163kB 13.3MB/s eta 0:00:01\r\u001b[K     |████████████████▋               | 174kB 13.3MB/s eta 0:00:01\r\u001b[K     |█████████████████▋              | 184kB 13.3MB/s eta 0:00:01\r\u001b[K     |██████████████████▋             | 194kB 13.3MB/s eta 0:00:01\r\u001b[K     |███████████████████▋            | 204kB 13.3MB/s eta 0:00:01\r\u001b[K     |████████████████████▌           | 215kB 13.3MB/s eta 0:00:01\r\u001b[K     |█████████████████████▌          | 225kB 13.3MB/s eta 0:00:01\r\u001b[K     |██████████████████████▌         | 235kB 13.3MB/s eta 0:00:01\r\u001b[K     |███████████████████████▌        | 245kB 13.3MB/s eta 0:00:01\r\u001b[K     |████████████████████████▌       | 256kB 13.3MB/s eta 0:00:01\r\u001b[K     |█████████████████████████▍      | 266kB 13.3MB/s eta 0:00:01\r\u001b[K     |██████████████████████████▍     | 276kB 13.3MB/s eta 0:00:01\r\u001b[K     |███████████████████████████▍    | 286kB 13.3MB/s eta 0:00:01\r\u001b[K     |████████████████████████████▍   | 296kB 13.3MB/s eta 0:00:01\r\u001b[K     |█████████████████████████████▍  | 307kB 13.3MB/s eta 0:00:01\r\u001b[K     |██████████████████████████████▎ | 317kB 13.3MB/s eta 0:00:01\r\u001b[K     |███████████████████████████████▎| 327kB 13.3MB/s eta 0:00:01\r\u001b[K     |████████████████████████████████| 337kB 13.3MB/s \n",
            "\u001b[?25hRequirement already satisfied: pyyaml in /usr/local/lib/python3.6/dist-packages (from keras==2.1.5) (3.13)\n",
            "Requirement already satisfied: numpy>=1.9.1 in /usr/local/lib/python3.6/dist-packages (from keras==2.1.5) (1.17.5)\n",
            "Requirement already satisfied: six>=1.9.0 in /usr/local/lib/python3.6/dist-packages (from keras==2.1.5) (1.12.0)\n",
            "Requirement already satisfied: scipy>=0.14 in /usr/local/lib/python3.6/dist-packages (from keras==2.1.5) (1.4.1)\n",
            "Installing collected packages: keras\n",
            "  Found existing installation: Keras 2.2.5\n",
            "    Uninstalling Keras-2.2.5:\n",
            "      Successfully uninstalled Keras-2.2.5\n",
            "Successfully installed keras-2.1.5\n"
          ],
          "name": "stdout"
        },
        {
          "output_type": "stream",
          "text": [
            "Using TensorFlow backend.\n"
          ],
          "name": "stderr"
        },
        {
          "output_type": "execute_result",
          "data": {
            "text/plain": [
              "'2.1.5'"
            ]
          },
          "metadata": {
            "tags": []
          },
          "execution_count": 3
        }
      ]
    },
    {
      "cell_type": "code",
      "metadata": {
        "id": "RDDoKPloOrPB",
        "colab_type": "code",
        "colab": {
          "base_uri": "https://localhost:8080/",
          "height": 427
        },
        "outputId": "08f58573-5ec6-4402-de8e-33717988248e"
      },
      "source": [
        "!pip install efficientnet"
      ],
      "execution_count": 4,
      "outputs": [
        {
          "output_type": "stream",
          "text": [
            "Collecting efficientnet\n",
            "  Downloading https://files.pythonhosted.org/packages/97/82/f3ae07316f0461417dc54affab6e86ab188a5a22f33176d35271628b96e0/efficientnet-1.0.0-py3-none-any.whl\n",
            "Requirement already satisfied: scikit-image in /usr/local/lib/python3.6/dist-packages (from efficientnet) (0.16.2)\n",
            "Requirement already satisfied: keras-applications<=1.0.8,>=1.0.7 in /usr/local/lib/python3.6/dist-packages (from efficientnet) (1.0.8)\n",
            "Requirement already satisfied: networkx>=2.0 in /usr/local/lib/python3.6/dist-packages (from scikit-image->efficientnet) (2.4)\n",
            "Requirement already satisfied: pillow>=4.3.0 in /usr/local/lib/python3.6/dist-packages (from scikit-image->efficientnet) (6.2.2)\n",
            "Requirement already satisfied: matplotlib!=3.0.0,>=2.0.0 in /usr/local/lib/python3.6/dist-packages (from scikit-image->efficientnet) (3.1.3)\n",
            "Requirement already satisfied: scipy>=0.19.0 in /usr/local/lib/python3.6/dist-packages (from scikit-image->efficientnet) (1.4.1)\n",
            "Requirement already satisfied: imageio>=2.3.0 in /usr/local/lib/python3.6/dist-packages (from scikit-image->efficientnet) (2.4.1)\n",
            "Requirement already satisfied: PyWavelets>=0.4.0 in /usr/local/lib/python3.6/dist-packages (from scikit-image->efficientnet) (1.1.1)\n",
            "Requirement already satisfied: numpy>=1.9.1 in /usr/local/lib/python3.6/dist-packages (from keras-applications<=1.0.8,>=1.0.7->efficientnet) (1.17.5)\n",
            "Requirement already satisfied: h5py in /usr/local/lib/python3.6/dist-packages (from keras-applications<=1.0.8,>=1.0.7->efficientnet) (2.8.0)\n",
            "Requirement already satisfied: decorator>=4.3.0 in /usr/local/lib/python3.6/dist-packages (from networkx>=2.0->scikit-image->efficientnet) (4.4.1)\n",
            "Requirement already satisfied: pyparsing!=2.0.4,!=2.1.2,!=2.1.6,>=2.0.1 in /usr/local/lib/python3.6/dist-packages (from matplotlib!=3.0.0,>=2.0.0->scikit-image->efficientnet) (2.4.6)\n",
            "Requirement already satisfied: kiwisolver>=1.0.1 in /usr/local/lib/python3.6/dist-packages (from matplotlib!=3.0.0,>=2.0.0->scikit-image->efficientnet) (1.1.0)\n",
            "Requirement already satisfied: python-dateutil>=2.1 in /usr/local/lib/python3.6/dist-packages (from matplotlib!=3.0.0,>=2.0.0->scikit-image->efficientnet) (2.6.1)\n",
            "Requirement already satisfied: cycler>=0.10 in /usr/local/lib/python3.6/dist-packages (from matplotlib!=3.0.0,>=2.0.0->scikit-image->efficientnet) (0.10.0)\n",
            "Requirement already satisfied: six in /usr/local/lib/python3.6/dist-packages (from h5py->keras-applications<=1.0.8,>=1.0.7->efficientnet) (1.12.0)\n",
            "Requirement already satisfied: setuptools in /usr/local/lib/python3.6/dist-packages (from kiwisolver>=1.0.1->matplotlib!=3.0.0,>=2.0.0->scikit-image->efficientnet) (45.1.0)\n",
            "Installing collected packages: efficientnet\n",
            "Successfully installed efficientnet-1.0.0\n"
          ],
          "name": "stdout"
        }
      ]
    },
    {
      "cell_type": "code",
      "metadata": {
        "id": "feIWjLDKOs3j",
        "colab_type": "code",
        "colab": {
          "base_uri": "https://localhost:8080/",
          "height": 74
        },
        "outputId": "89ee60dd-9671-4a77-8bc2-6d0df5ff500c"
      },
      "source": [
        "from ae_datagenerator import get_encoder\n",
        "from tensorflow.contrib.losses import metric_learning\n",
        "from npair_generator import generator\n",
        "from utils import EFNB4_INPUT_SHAPE\n",
        "from keras.optimizers import Adam\n",
        "from keras.layers import Input, Concatenate\n",
        "from keras.models import Model"
      ],
      "execution_count": 5,
      "outputs": [
        {
          "output_type": "stream",
          "text": [
            "WARNING:tensorflow:From /usr/local/lib/python3.6/dist-packages/keras/backend/tensorflow_backend.py:68: The name tf.get_default_graph is deprecated. Please use tf.compat.v1.get_default_graph instead.\n",
            "\n"
          ],
          "name": "stdout"
        }
      ]
    },
    {
      "cell_type": "code",
      "metadata": {
        "id": "VKAqNT2rO9UR",
        "colab_type": "code",
        "colab": {}
      },
      "source": [
        "MODEL_NAME = 'efnb4'"
      ],
      "execution_count": 0,
      "outputs": []
    },
    {
      "cell_type": "code",
      "metadata": {
        "id": "XmqPwsjgO_kn",
        "colab_type": "code",
        "colab": {}
      },
      "source": [
        "def np_loss(batch_size):\n",
        "    def loss(y_true,y_pred):\n",
        "        labels = y_pred[:int(batch_size/2),-1]\n",
        "        embeddings_anchor = y_pred[:int(batch_size/2),:-1]\n",
        "        embeddings_positive = y_pred[int(batch_size/2):,:-1]\n",
        "        return metric_learning.npairs_loss(labels=labels,\n",
        "                           embeddings_anchor=embeddings_anchor,\n",
        "                           embeddings_positive=embeddings_positive)\n",
        "    return loss"
      ],
      "execution_count": 0,
      "outputs": []
    },
    {
      "cell_type": "code",
      "metadata": {
        "id": "_nI1ffmLPB4R",
        "colab_type": "code",
        "colab": {}
      },
      "source": [
        "batch_size = 4"
      ],
      "execution_count": 0,
      "outputs": []
    },
    {
      "cell_type": "code",
      "metadata": {
        "id": "fNBQmQ_EPDp1",
        "colab_type": "code",
        "colab": {}
      },
      "source": [
        "gen = generator(batch_size=batch_size,\n",
        "                model_name=MODEL_NAME,\n",
        "                mode='train',image_size=EFNB4_INPUT_SHAPE[:-1],\n",
        "                preprocess=True,\n",
        "                onehotencode=False)"
      ],
      "execution_count": 0,
      "outputs": []
    },
    {
      "cell_type": "code",
      "metadata": {
        "id": "jWsT7qMJP5lo",
        "colab_type": "code",
        "colab": {}
      },
      "source": [
        "encoder = get_encoder(MODEL_NAME)\n",
        "encoder.trainable = True"
      ],
      "execution_count": 0,
      "outputs": []
    },
    {
      "cell_type": "code",
      "metadata": {
        "id": "gRt1dNS4PFxN",
        "colab_type": "code",
        "colab": {
          "base_uri": "https://localhost:8080/",
          "height": 538
        },
        "outputId": "e3ea2d95-fa38-4608-ba9c-54f2a2e3527d"
      },
      "source": [
        "label_input = Input(shape=(1,))\n",
        "image_input = Input(shape=EFNB4_INPUT_SHAPE)\n",
        "embedding = encoder(image_input)\n",
        "out = Concatenate()([embedding,label_input])\n",
        "\n",
        "model = Model([image_input,label_input],out)"
      ],
      "execution_count": 10,
      "outputs": [
        {
          "output_type": "stream",
          "text": [
            "WARNING:tensorflow:From /usr/local/lib/python3.6/dist-packages/keras/backend/tensorflow_backend.py:507: The name tf.placeholder is deprecated. Please use tf.compat.v1.placeholder instead.\n",
            "\n",
            "WARNING:tensorflow:From /usr/local/lib/python3.6/dist-packages/keras/backend/tensorflow_backend.py:3878: The name tf.truncated_normal is deprecated. Please use tf.random.truncated_normal instead.\n",
            "\n",
            "WARNING:tensorflow:From /usr/local/lib/python3.6/dist-packages/keras/backend/tensorflow_backend.py:167: The name tf.get_default_session is deprecated. Please use tf.compat.v1.get_default_session instead.\n",
            "\n",
            "WARNING:tensorflow:From /usr/local/lib/python3.6/dist-packages/keras/backend/tensorflow_backend.py:174: The name tf.ConfigProto is deprecated. Please use tf.compat.v1.ConfigProto instead.\n",
            "\n",
            "WARNING:tensorflow:From /usr/local/lib/python3.6/dist-packages/keras/backend/tensorflow_backend.py:179: The name tf.Session is deprecated. Please use tf.compat.v1.Session instead.\n",
            "\n",
            "WARNING:tensorflow:From /usr/local/lib/python3.6/dist-packages/keras/backend/tensorflow_backend.py:183: The name tf.global_variables is deprecated. Please use tf.compat.v1.global_variables instead.\n",
            "\n",
            "WARNING:tensorflow:From /usr/local/lib/python3.6/dist-packages/keras/backend/tensorflow_backend.py:192: The name tf.is_variable_initialized is deprecated. Please use tf.compat.v1.is_variable_initialized instead.\n",
            "\n",
            "WARNING:tensorflow:From /usr/local/lib/python3.6/dist-packages/keras/backend/tensorflow_backend.py:199: The name tf.variables_initializer is deprecated. Please use tf.compat.v1.variables_initializer instead.\n",
            "\n",
            "WARNING:tensorflow:From /usr/local/lib/python3.6/dist-packages/keras/backend/tensorflow_backend.py:1797: The name tf.nn.fused_batch_norm is deprecated. Please use tf.compat.v1.nn.fused_batch_norm instead.\n",
            "\n",
            "WARNING:tensorflow:From /usr/local/lib/python3.6/dist-packages/keras/backend/tensorflow_backend.py:126: The name tf.placeholder_with_default is deprecated. Please use tf.compat.v1.placeholder_with_default instead.\n",
            "\n",
            "WARNING:tensorflow:From /usr/local/lib/python3.6/dist-packages/keras/backend/tensorflow_backend.py:3138: calling dropout (from tensorflow.python.ops.nn_ops) with keep_prob is deprecated and will be removed in a future version.\n",
            "Instructions for updating:\n",
            "Please use `rate` instead of `keep_prob`. Rate should be set to `rate = 1 - keep_prob`.\n",
            "WARNING:tensorflow:From /usr/local/lib/python3.6/dist-packages/keras/backend/tensorflow_backend.py:3831: The name tf.random_uniform is deprecated. Please use tf.random.uniform instead.\n",
            "\n",
            "Downloading data from https://github.com/Callidior/keras-applications/releases/download/efficientnet/efficientnet-b4_weights_tf_dim_ordering_tf_kernels_autoaugment.h5\n",
            "78856192/78856072 [==============================] - 7s 0us/step\n"
          ],
          "name": "stdout"
        }
      ]
    },
    {
      "cell_type": "code",
      "metadata": {
        "id": "H2enuM69PJnb",
        "colab_type": "code",
        "colab": {
          "base_uri": "https://localhost:8080/",
          "height": 314
        },
        "outputId": "1eb8ccfb-da29-4b74-fb93-0d284c7749c5"
      },
      "source": [
        "model.summary()"
      ],
      "execution_count": 11,
      "outputs": [
        {
          "output_type": "stream",
          "text": [
            "__________________________________________________________________________________________________\n",
            "Layer (type)                    Output Shape         Param #     Connected to                     \n",
            "==================================================================================================\n",
            "input_5 (InputLayer)            (None, 380, 380, 3)  0                                            \n",
            "__________________________________________________________________________________________________\n",
            "Encoder (Model)                 (None, 1024)         19509848    input_5[0][0]                    \n",
            "__________________________________________________________________________________________________\n",
            "input_4 (InputLayer)            (None, 1)            0                                            \n",
            "__________________________________________________________________________________________________\n",
            "concatenate_1 (Concatenate)     (None, 1025)         0           Encoder[2][0]                    \n",
            "                                                                 input_4[0][0]                    \n",
            "==================================================================================================\n",
            "Total params: 19,509,848\n",
            "Trainable params: 19,384,648\n",
            "Non-trainable params: 125,200\n",
            "__________________________________________________________________________________________________\n"
          ],
          "name": "stdout"
        }
      ]
    },
    {
      "cell_type": "code",
      "metadata": {
        "id": "oaVLfaazPOmM",
        "colab_type": "code",
        "colab": {}
      },
      "source": [
        "model.compile(Adam(0.001),np_loss(batch_size))"
      ],
      "execution_count": 0,
      "outputs": []
    },
    {
      "cell_type": "code",
      "metadata": {
        "id": "-nj6NSpgPNKD",
        "colab_type": "code",
        "colab": {
          "base_uri": "https://localhost:8080/",
          "height": 73
        },
        "outputId": "90559fc6-1204-497c-a532-c9f66491c744"
      },
      "source": [
        "model.fit_generator(generator=gen,\n",
        "                    steps_per_epoch=1,\n",
        "                    epochs=1)"
      ],
      "execution_count": 18,
      "outputs": [
        {
          "output_type": "stream",
          "text": [
            "Epoch 1/1\n",
            "1/1 [==============================] - 41s 41s/step - loss: 0.0596\n"
          ],
          "name": "stdout"
        },
        {
          "output_type": "execute_result",
          "data": {
            "text/plain": [
              "<keras.callbacks.History at 0x7f2c5e435d30>"
            ]
          },
          "metadata": {
            "tags": []
          },
          "execution_count": 18
        }
      ]
    },
    {
      "cell_type": "code",
      "metadata": {
        "id": "pTEMct6WQQLQ",
        "colab_type": "code",
        "colab": {}
      },
      "source": [
        ""
      ],
      "execution_count": 0,
      "outputs": []
    }
  ]
}