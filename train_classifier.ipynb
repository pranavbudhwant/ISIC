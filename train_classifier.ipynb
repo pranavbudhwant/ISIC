{
 "cells": [
  {
   "cell_type": "code",
   "execution_count": null,
   "metadata": {},
   "outputs": [],
   "source": [
    "from model import build_encoder\n",
    "from c2ae import build_classifier\n",
    "from classifier_datagenerator import classifier_generator\n",
    "from keras.models import Model\n",
    "from keras.layers import Input, Dense\n",
    "from keras.optimizers import Adam\n",
    "from keras.callbacks import ModelCheckpoint\n",
    "import keras.backend as K\n",
    "K.tensorflow_backend._get_available_gpus()\n",
    "\n",
    "from utils import INPUT_SHAPE, LATENT_DIM, ISIC_TRAIN_SAMPLES,ISIC_VAL_SAMPLES"
   ]
  },
  {
   "cell_type": "code",
   "execution_count": null,
   "metadata": {},
   "outputs": [],
   "source": [
    "MODEL = 'resnet50'"
   ]
  },
  {
   "cell_type": "code",
   "execution_count": null,
   "metadata": {},
   "outputs": [],
   "source": [
    "encoder = build_encoder(LATENT_DIM,MODEL)\n",
    "classifier = build_classifier(encoder)"
   ]
  },
  {
   "cell_type": "code",
   "execution_count": null,
   "metadata": {},
   "outputs": [],
   "source": [
    "classifier.summary()"
   ]
  },
  {
   "cell_type": "code",
   "execution_count": null,
   "metadata": {},
   "outputs": [],
   "source": [
    "classifier.compile(optimizer=Adam(0.001),loss='categorical_crossentropy',\n",
    "                   metrics=['categorical_accuracy'])"
   ]
  },
  {
   "cell_type": "code",
   "execution_count": null,
   "metadata": {},
   "outputs": [],
   "source": [
    "batch_size = 1\n",
    "epochs = 1"
   ]
  },
  {
   "cell_type": "code",
   "execution_count": null,
   "metadata": {},
   "outputs": [],
   "source": [
    "train_data_generator = classifier_generator(batch_size,MODEL,mode='train')\n",
    "val_data_generator = classifier_generator(batch_size,MODEL,mode='val')\n",
    "\n",
    "train_nb = int(ISIC_TRAIN_SAMPLES/batch_size)+1\n",
    "val_nb = int(ISIC_VAL_SAMPLES/batch_size)+1"
   ]
  },
  {
   "cell_type": "code",
   "execution_count": null,
   "metadata": {},
   "outputs": [],
   "source": [
    "filepath='models/'+MODEL+\"-save-{epoch:02d}-{val_loss:.2f}.hdf5\"\n",
    "checkpoint = ModelCheckpoint(filepath, monitor='val_loss', \n",
    "                             save_weights_only=False,\n",
    "                             verbose=1, save_best_only=True, mode='min',\n",
    "                             period=1)\n",
    "callbacks_list = [checkpoint]"
   ]
  },
  {
   "cell_type": "code",
   "execution_count": null,
   "metadata": {},
   "outputs": [],
   "source": [
    "train_history = classifier.fit_generator(train_data_generator,\n",
    "                                         steps_per_epoch=train_nb,\n",
    "                                         epochs=epochs,\n",
    "                                         validation_data = val_data_generator,\n",
    "                                         validation_steps = val_nb,\n",
    "                                         callbacks=callbacks_list)"
   ]
  }
 ],
 "metadata": {
  "kernelspec": {
   "display_name": "Python 3",
   "language": "python",
   "name": "python3"
  },
  "language_info": {
   "codemirror_mode": {
    "name": "ipython",
    "version": 3
   },
   "file_extension": ".py",
   "mimetype": "text/x-python",
   "name": "python",
   "nbconvert_exporter": "python",
   "pygments_lexer": "ipython3",
   "version": "3.7.3"
  }
 },
 "nbformat": 4,
 "nbformat_minor": 4
}
